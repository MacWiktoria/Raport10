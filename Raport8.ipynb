{
  "nbformat": 4,
  "nbformat_minor": 0,
  "metadata": {
    "colab": {
      "provenance": [],
      "authorship_tag": "ABX9TyNclPYzLLceY8AJcMuqrvQQ",
      "include_colab_link": true
    },
    "kernelspec": {
      "name": "python3",
      "display_name": "Python 3"
    },
    "language_info": {
      "name": "python"
    }
  },
  "cells": [
    {
      "cell_type": "markdown",
      "metadata": {
        "id": "view-in-github",
        "colab_type": "text"
      },
      "source": [
        "<a href=\"https://colab.research.google.com/github/MacWiktoria/Raport10/blob/main/Raport8.ipynb\" target=\"_parent\"><img src=\"https://colab.research.google.com/assets/colab-badge.svg\" alt=\"Open In Colab\"/></a>"
      ]
    },
    {
      "cell_type": "code",
      "execution_count": null,
      "metadata": {
        "id": "hhTgWxfzA9LU"
      },
      "outputs": [],
      "source": []
    },
    {
      "cell_type": "markdown",
      "source": [
        "##Raport 8"
      ],
      "metadata": {
        "id": "MSFg1rrcoVdI"
      }
    },
    {
      "cell_type": "markdown",
      "source": [
        "###Twórców kod"
      ],
      "metadata": {
        "id": "S0RUKU8coY-b"
      }
    },
    {
      "cell_type": "code",
      "source": [
        "!wget https://dq-content.s3.amazonaws.com/350/googleplaystore.csv -O google_wget.csv\n",
        "!wget https://dq-content.s3.amazonaws.com/350/AppleStore.csv -O apple_wget.csv\n",
        "from csv import reader\n",
        "\n",
        "opened_file = open('google_wget.csv')\n",
        "read_file = reader(opened_file)\n",
        "android = list(read_file)\n",
        "android_header = android[0]\n",
        "android = android[1:]\n",
        "\n",
        "opened_file = open('apple_wget.csv')\n",
        "read_file = reader(opened_file)\n",
        "ios = list(read_file)\n",
        "ios_header = ios[0]\n",
        "ios = ios[1:]"
      ],
      "metadata": {
        "colab": {
          "base_uri": "https://localhost:8080/"
        },
        "id": "GNprgupdog9s",
        "outputId": "22fe0ec3-2064-4c7e-fdcf-70a9dc1f10b0"
      },
      "execution_count": null,
      "outputs": [
        {
          "output_type": "stream",
          "name": "stdout",
          "text": [
            "--2025-05-04 14:11:36--  https://dq-content.s3.amazonaws.com/350/googleplaystore.csv\n",
            "Resolving dq-content.s3.amazonaws.com (dq-content.s3.amazonaws.com)... 54.231.165.9, 3.5.28.51, 54.231.135.113, ...\n",
            "Connecting to dq-content.s3.amazonaws.com (dq-content.s3.amazonaws.com)|54.231.165.9|:443... connected.\n",
            "HTTP request sent, awaiting response... 200 OK\n",
            "Length: 1349314 (1.3M) [text/csv]\n",
            "Saving to: ‘google_wget.csv’\n",
            "\n",
            "google_wget.csv     100%[===================>]   1.29M  1.18MB/s    in 1.1s    \n",
            "\n",
            "2025-05-04 14:11:38 (1.18 MB/s) - ‘google_wget.csv’ saved [1349314/1349314]\n",
            "\n",
            "--2025-05-04 14:11:38--  https://dq-content.s3.amazonaws.com/350/AppleStore.csv\n",
            "Resolving dq-content.s3.amazonaws.com (dq-content.s3.amazonaws.com)... 52.217.167.105, 3.5.27.149, 52.216.220.249, ...\n",
            "Connecting to dq-content.s3.amazonaws.com (dq-content.s3.amazonaws.com)|52.217.167.105|:443... connected.\n",
            "HTTP request sent, awaiting response... 200 OK\n",
            "Length: 725761 (709K) [text/csv]\n",
            "Saving to: ‘apple_wget.csv’\n",
            "\n",
            "apple_wget.csv      100%[===================>] 708.75K   782KB/s    in 0.9s    \n",
            "\n",
            "2025-05-04 14:11:40 (782 KB/s) - ‘apple_wget.csv’ saved [725761/725761]\n",
            "\n"
          ]
        }
      ]
    },
    {
      "cell_type": "code",
      "source": [
        "def explore_data(dataset, start, end, rows_and_columns=False):\n",
        "    dataset_slice = dataset[start:end]\n",
        "    for row in dataset_slice:\n",
        "        print(row)\n",
        "        print('\\n')\n",
        "\n",
        "    if rows_and_columns:\n",
        "        print('Number of rows:', len(dataset))\n",
        "        print('Number of columns:', len(dataset[0]))\n",
        "\n",
        "print(android_header)\n",
        "print('\\n')\n",
        "explore_data(android, 0, 3, True)"
      ],
      "metadata": {
        "colab": {
          "base_uri": "https://localhost:8080/"
        },
        "id": "WFYZPA3Qog6y",
        "outputId": "5d9b81d7-f7cf-41d8-cb73-56075b699119"
      },
      "execution_count": null,
      "outputs": [
        {
          "output_type": "stream",
          "name": "stdout",
          "text": [
            "['App', 'Category', 'Rating', 'Reviews', 'Size', 'Installs', 'Type', 'Price', 'Content Rating', 'Genres', 'Last Updated', 'Current Ver', 'Android Ver']\n",
            "\n",
            "\n",
            "['Photo Editor & Candy Camera & Grid & ScrapBook', 'ART_AND_DESIGN', '4.1', '159', '19M', '10,000+', 'Free', '0', 'Everyone', 'Art & Design', 'January 7, 2018', '1.0.0', '4.0.3 and up']\n",
            "\n",
            "\n",
            "['Coloring book moana', 'ART_AND_DESIGN', '3.9', '967', '14M', '500,000+', 'Free', '0', 'Everyone', 'Art & Design;Pretend Play', 'January 15, 2018', '2.0.0', '4.0.3 and up']\n",
            "\n",
            "\n",
            "['U Launcher Lite – FREE Live Cool Themes, Hide Apps', 'ART_AND_DESIGN', '4.7', '87510', '8.7M', '5,000,000+', 'Free', '0', 'Everyone', 'Art & Design', 'August 1, 2018', '1.2.4', '4.0.3 and up']\n",
            "\n",
            "\n",
            "Number of rows: 10841\n",
            "Number of columns: 13\n"
          ]
        }
      ]
    },
    {
      "cell_type": "code",
      "source": [
        "print(ios_header)\n",
        "print('\\n')\n",
        "explore_data(ios, 0, 3, True)"
      ],
      "metadata": {
        "colab": {
          "base_uri": "https://localhost:8080/"
        },
        "id": "6QRrqZvPokJ4",
        "outputId": "cfe871ed-f6b1-4b0b-cb7c-2ffa959797c6"
      },
      "execution_count": null,
      "outputs": [
        {
          "output_type": "stream",
          "name": "stdout",
          "text": [
            "['id', 'track_name', 'size_bytes', 'currency', 'price', 'rating_count_tot', 'rating_count_ver', 'user_rating', 'user_rating_ver', 'ver', 'cont_rating', 'prime_genre', 'sup_devices.num', 'ipadSc_urls.num', 'lang.num', 'vpp_lic']\n",
            "\n",
            "\n",
            "['284882215', 'Facebook', '389879808', 'USD', '0.0', '2974676', '212', '3.5', '3.5', '95.0', '4+', 'Social Networking', '37', '1', '29', '1']\n",
            "\n",
            "\n",
            "['389801252', 'Instagram', '113954816', 'USD', '0.0', '2161558', '1289', '4.5', '4.0', '10.23', '12+', 'Photo & Video', '37', '0', '29', '1']\n",
            "\n",
            "\n",
            "['529479190', 'Clash of Clans', '116476928', 'USD', '0.0', '2130805', '579', '4.5', '4.5', '9.24.12', '9+', 'Games', '38', '5', '18', '1']\n",
            "\n",
            "\n",
            "Number of rows: 7197\n",
            "Number of columns: 16\n"
          ]
        }
      ]
    },
    {
      "cell_type": "code",
      "source": [
        "print(android[10472])\n",
        "print('\\n')\n",
        "print(android_header)\n",
        "print('\\n')\n",
        "print(android[0])"
      ],
      "metadata": {
        "colab": {
          "base_uri": "https://localhost:8080/"
        },
        "id": "tmk783dWokHp",
        "outputId": "50557142-d258-44fe-af01-e40760ad75e6"
      },
      "execution_count": null,
      "outputs": [
        {
          "output_type": "stream",
          "name": "stdout",
          "text": [
            "['Life Made WI-Fi Touchscreen Photo Frame', '1.9', '19', '3.0M', '1,000+', 'Free', '0', 'Everyone', '', 'February 11, 2018', '1.0.19', '4.0 and up']\n",
            "\n",
            "\n",
            "['App', 'Category', 'Rating', 'Reviews', 'Size', 'Installs', 'Type', 'Price', 'Content Rating', 'Genres', 'Last Updated', 'Current Ver', 'Android Ver']\n",
            "\n",
            "\n",
            "['Photo Editor & Candy Camera & Grid & ScrapBook', 'ART_AND_DESIGN', '4.1', '159', '19M', '10,000+', 'Free', '0', 'Everyone', 'Art & Design', 'January 7, 2018', '1.0.0', '4.0.3 and up']\n"
          ]
        }
      ]
    },
    {
      "cell_type": "code",
      "source": [
        "print(len(android))\n",
        "del android[10472]\n",
        "print(len(android))"
      ],
      "metadata": {
        "colab": {
          "base_uri": "https://localhost:8080/"
        },
        "id": "WDO5DPcJokFe",
        "outputId": "b2a9fdeb-123e-41c1-9781-ec4b3c0613c6"
      },
      "execution_count": null,
      "outputs": [
        {
          "output_type": "stream",
          "name": "stdout",
          "text": [
            "10841\n",
            "10840\n"
          ]
        }
      ]
    },
    {
      "cell_type": "code",
      "source": [
        "for app in android:\n",
        "    name = app[0]\n",
        "    if name == 'Instagram':\n",
        "        print(app)"
      ],
      "metadata": {
        "colab": {
          "base_uri": "https://localhost:8080/"
        },
        "id": "6FCjIPSZokDT",
        "outputId": "c4bfe8a6-339e-4792-a843-0f9cd183ef47"
      },
      "execution_count": null,
      "outputs": [
        {
          "output_type": "stream",
          "name": "stdout",
          "text": [
            "['Instagram', 'SOCIAL', '4.5', '66577313', 'Varies with device', '1,000,000,000+', 'Free', '0', 'Teen', 'Social', 'July 31, 2018', 'Varies with device', 'Varies with device']\n",
            "['Instagram', 'SOCIAL', '4.5', '66577446', 'Varies with device', '1,000,000,000+', 'Free', '0', 'Teen', 'Social', 'July 31, 2018', 'Varies with device', 'Varies with device']\n",
            "['Instagram', 'SOCIAL', '4.5', '66577313', 'Varies with device', '1,000,000,000+', 'Free', '0', 'Teen', 'Social', 'July 31, 2018', 'Varies with device', 'Varies with device']\n",
            "['Instagram', 'SOCIAL', '4.5', '66509917', 'Varies with device', '1,000,000,000+', 'Free', '0', 'Teen', 'Social', 'July 31, 2018', 'Varies with device', 'Varies with device']\n"
          ]
        }
      ]
    },
    {
      "cell_type": "code",
      "source": [
        "duplicate_apps = []\n",
        "unique_apps = []\n",
        "\n",
        "for app in android:\n",
        "    name = app[0]\n",
        "    if name in unique_apps:\n",
        "        duplicate_apps.append(name)\n",
        "    else:\n",
        "        unique_apps.append(name)\n",
        "\n",
        "print('Number of duplicate apps:', len(duplicate_apps))\n",
        "print('\\n')\n",
        "print('Examples of duplicate apps:', duplicate_apps[:15])"
      ],
      "metadata": {
        "colab": {
          "base_uri": "https://localhost:8080/"
        },
        "id": "ZZPjZmLtokBP",
        "outputId": "1d4ce4da-21b5-4f46-e38f-a80bce9349d8"
      },
      "execution_count": null,
      "outputs": [
        {
          "output_type": "stream",
          "name": "stdout",
          "text": [
            "Number of duplicate apps: 1181\n",
            "\n",
            "\n",
            "Examples of duplicate apps: ['Quick PDF Scanner + OCR FREE', 'Box', 'Google My Business', 'ZOOM Cloud Meetings', 'join.me - Simple Meetings', 'Box', 'Zenefits', 'Google Ads', 'Google My Business', 'Slack', 'FreshBooks Classic', 'Insightly CRM', 'QuickBooks Accounting: Invoicing & Expenses', 'HipChat - Chat Built for Teams', 'Xero Accounting Software']\n"
          ]
        }
      ]
    },
    {
      "cell_type": "code",
      "source": [
        "reviews_max = {}\n",
        "\n",
        "for app in android:\n",
        "    name = app[0]\n",
        "    n_reviews = float(app[3])\n",
        "\n",
        "    if name in reviews_max and reviews_max[name] < n_reviews:\n",
        "        reviews_max[name] = n_reviews\n",
        "\n",
        "    elif name not in reviews_max:\n",
        "        reviews_max[name] = n_reviews"
      ],
      "metadata": {
        "id": "5sz75UchooD_"
      },
      "execution_count": null,
      "outputs": []
    },
    {
      "cell_type": "code",
      "source": [
        "print('Expected length:', len(android) - 1181)\n",
        "print('Actual length:', len(reviews_max))"
      ],
      "metadata": {
        "colab": {
          "base_uri": "https://localhost:8080/"
        },
        "id": "KrXpc3ieooCM",
        "outputId": "8d7899c0-9c82-4cee-d1f7-10d94eefff70"
      },
      "execution_count": null,
      "outputs": [
        {
          "output_type": "stream",
          "name": "stdout",
          "text": [
            "Expected length: 9659\n",
            "Actual length: 9659\n"
          ]
        }
      ]
    },
    {
      "cell_type": "code",
      "source": [
        "android_clean = []\n",
        "already_added = []\n",
        "\n",
        "for app in android:\n",
        "    name = app[0]\n",
        "    n_reviews = float(app[3])\n",
        "\n",
        "    if (reviews_max[name] == n_reviews) and (name not in already_added):\n",
        "        android_clean.append(app)\n",
        "        already_added.append(name)"
      ],
      "metadata": {
        "id": "AxOTE5f6ooAE"
      },
      "execution_count": null,
      "outputs": []
    },
    {
      "cell_type": "code",
      "source": [
        "explore_data(android_clean, 0, 3, True)"
      ],
      "metadata": {
        "colab": {
          "base_uri": "https://localhost:8080/"
        },
        "id": "rpMAtV9ton9u",
        "outputId": "70da3d12-3204-4cff-ce0f-0ebe4420d44f"
      },
      "execution_count": null,
      "outputs": [
        {
          "output_type": "stream",
          "name": "stdout",
          "text": [
            "['Photo Editor & Candy Camera & Grid & ScrapBook', 'ART_AND_DESIGN', '4.1', '159', '19M', '10,000+', 'Free', '0', 'Everyone', 'Art & Design', 'January 7, 2018', '1.0.0', '4.0.3 and up']\n",
            "\n",
            "\n",
            "['U Launcher Lite – FREE Live Cool Themes, Hide Apps', 'ART_AND_DESIGN', '4.7', '87510', '8.7M', '5,000,000+', 'Free', '0', 'Everyone', 'Art & Design', 'August 1, 2018', '1.2.4', '4.0.3 and up']\n",
            "\n",
            "\n",
            "['Sketch - Draw & Paint', 'ART_AND_DESIGN', '4.5', '215644', '25M', '50,000,000+', 'Free', '0', 'Teen', 'Art & Design', 'June 8, 2018', 'Varies with device', '4.2 and up']\n",
            "\n",
            "\n",
            "Number of rows: 9659\n",
            "Number of columns: 13\n"
          ]
        }
      ]
    },
    {
      "cell_type": "code",
      "source": [
        "print(ios[813][1])\n",
        "print(ios[6731][1])\n",
        "print(android_clean[4412][0])\n",
        "print(android_clean[7940][0])"
      ],
      "metadata": {
        "colab": {
          "base_uri": "https://localhost:8080/"
        },
        "id": "DxglmSCwon7h",
        "outputId": "903580f6-5aff-426f-87a0-66b201ab4a4a"
      },
      "execution_count": null,
      "outputs": [
        {
          "output_type": "stream",
          "name": "stdout",
          "text": [
            "爱奇艺PPS -《欢乐颂2》电视剧热播\n",
            "【脱出ゲーム】絶対に最後までプレイしないで 〜謎解き＆ブロックパズル〜\n",
            "中国語 AQリスニング\n",
            "لعبة تقدر تربح DZ\n"
          ]
        }
      ]
    },
    {
      "cell_type": "code",
      "source": [
        "def is_english(string):\n",
        "\n",
        "    for character in string:\n",
        "        if ord(character) > 127:\n",
        "            return False\n",
        "\n",
        "    return True\n",
        "\n",
        "print(is_english('Instagram'))\n",
        "print(is_english('爱奇艺PPS -《欢乐颂2》电视剧热播'))"
      ],
      "metadata": {
        "colab": {
          "base_uri": "https://localhost:8080/"
        },
        "id": "gcmOl7HLot6j",
        "outputId": "5ea955c9-1c26-487a-a9a0-44f4c39eb2b2"
      },
      "execution_count": null,
      "outputs": [
        {
          "output_type": "stream",
          "name": "stdout",
          "text": [
            "True\n",
            "False\n"
          ]
        }
      ]
    },
    {
      "cell_type": "code",
      "source": [
        "print(is_english('Docs To Go™ Free Office Suite'))\n",
        "print(is_english('Instachat 😜'))\n",
        "print(ord('™'))\n",
        "print(ord('😜'))"
      ],
      "metadata": {
        "colab": {
          "base_uri": "https://localhost:8080/"
        },
        "id": "mY6nSkeMot44",
        "outputId": "0dc64d85-b0e5-4d98-d169-44a20c108dfe"
      },
      "execution_count": null,
      "outputs": [
        {
          "output_type": "stream",
          "name": "stdout",
          "text": [
            "False\n",
            "False\n",
            "8482\n",
            "128540\n"
          ]
        }
      ]
    },
    {
      "cell_type": "code",
      "source": [
        "def is_english(string):\n",
        "    non_ascii = 0\n",
        "\n",
        "    for character in string:\n",
        "        if ord(character) > 127:\n",
        "            non_ascii += 1\n",
        "\n",
        "    if non_ascii > 3:\n",
        "        return False\n",
        "    else:\n",
        "        return True\n",
        "\n",
        "print(is_english('Docs To Go™ Free Office Suite'))\n",
        "print(is_english('Instachat 😜'))"
      ],
      "metadata": {
        "colab": {
          "base_uri": "https://localhost:8080/"
        },
        "id": "B3Se71eeot23",
        "outputId": "c4a0edcc-4a15-492c-8296-be056753d7cc"
      },
      "execution_count": null,
      "outputs": [
        {
          "output_type": "stream",
          "name": "stdout",
          "text": [
            "True\n",
            "True\n"
          ]
        }
      ]
    },
    {
      "cell_type": "code",
      "source": [
        "android_english = []\n",
        "ios_english = []\n",
        "\n",
        "for app in android_clean:\n",
        "    name = app[0]\n",
        "    if is_english(name):\n",
        "        android_english.append(app)\n",
        "\n",
        "for app in ios:\n",
        "    name = app[1]\n",
        "    if is_english(name):\n",
        "        ios_english.append(app)\n",
        "\n",
        "explore_data(android_english, 0, 3, True)\n",
        "print('\\n')\n",
        "explore_data(ios_english, 0, 3, True)"
      ],
      "metadata": {
        "colab": {
          "base_uri": "https://localhost:8080/"
        },
        "id": "G-ms76Vbot0o",
        "outputId": "6bbf7ea3-b9d0-400f-d573-a819606d1f4e"
      },
      "execution_count": null,
      "outputs": [
        {
          "output_type": "stream",
          "name": "stdout",
          "text": [
            "['Photo Editor & Candy Camera & Grid & ScrapBook', 'ART_AND_DESIGN', '4.1', '159', '19M', '10,000+', 'Free', '0', 'Everyone', 'Art & Design', 'January 7, 2018', '1.0.0', '4.0.3 and up']\n",
            "\n",
            "\n",
            "['U Launcher Lite – FREE Live Cool Themes, Hide Apps', 'ART_AND_DESIGN', '4.7', '87510', '8.7M', '5,000,000+', 'Free', '0', 'Everyone', 'Art & Design', 'August 1, 2018', '1.2.4', '4.0.3 and up']\n",
            "\n",
            "\n",
            "['Sketch - Draw & Paint', 'ART_AND_DESIGN', '4.5', '215644', '25M', '50,000,000+', 'Free', '0', 'Teen', 'Art & Design', 'June 8, 2018', 'Varies with device', '4.2 and up']\n",
            "\n",
            "\n",
            "Number of rows: 9614\n",
            "Number of columns: 13\n",
            "\n",
            "\n",
            "['284882215', 'Facebook', '389879808', 'USD', '0.0', '2974676', '212', '3.5', '3.5', '95.0', '4+', 'Social Networking', '37', '1', '29', '1']\n",
            "\n",
            "\n",
            "['389801252', 'Instagram', '113954816', 'USD', '0.0', '2161558', '1289', '4.5', '4.0', '10.23', '12+', 'Photo & Video', '37', '0', '29', '1']\n",
            "\n",
            "\n",
            "['529479190', 'Clash of Clans', '116476928', 'USD', '0.0', '2130805', '579', '4.5', '4.5', '9.24.12', '9+', 'Games', '38', '5', '18', '1']\n",
            "\n",
            "\n",
            "Number of rows: 6183\n",
            "Number of columns: 16\n"
          ]
        }
      ]
    },
    {
      "cell_type": "code",
      "source": [
        "android_final = []\n",
        "ios_final = []\n",
        "\n",
        "for app in android_english:\n",
        "    price = app[7]\n",
        "    if price == '0':\n",
        "        android_final.append(app)\n",
        "\n",
        "for app in ios_english:\n",
        "    price = app[4]\n",
        "    if price == '0.0':\n",
        "        ios_final.append(app)\n",
        "\n",
        "print(len(android_final))\n",
        "print(len(ios_final))"
      ],
      "metadata": {
        "colab": {
          "base_uri": "https://localhost:8080/"
        },
        "id": "13IM49MSotyh",
        "outputId": "41cf7d70-9fbc-4ca9-9890-c6ab57ab3afa"
      },
      "execution_count": null,
      "outputs": [
        {
          "output_type": "stream",
          "name": "stdout",
          "text": [
            "8864\n",
            "3222\n"
          ]
        }
      ]
    },
    {
      "cell_type": "markdown",
      "source": [
        "###Google\n"
      ],
      "metadata": {
        "id": "eM33qak8o2XG"
      }
    },
    {
      "cell_type": "code",
      "source": [
        "!wget https://dq-content.s3.amazonaws.com/350/googleplaystore.csv -O google_play.csv\n"
      ],
      "metadata": {
        "colab": {
          "base_uri": "https://localhost:8080/"
        },
        "id": "WyomdI8YpFnC",
        "outputId": "87919334-6e01-4e58-e652-8711d2be1736"
      },
      "execution_count": null,
      "outputs": [
        {
          "output_type": "stream",
          "name": "stdout",
          "text": [
            "--2025-05-04 14:14:16--  https://dq-content.s3.amazonaws.com/350/googleplaystore.csv\n",
            "Resolving dq-content.s3.amazonaws.com (dq-content.s3.amazonaws.com)... 16.182.98.241, 3.5.30.251, 3.5.28.39, ...\n",
            "Connecting to dq-content.s3.amazonaws.com (dq-content.s3.amazonaws.com)|16.182.98.241|:443... connected.\n",
            "HTTP request sent, awaiting response... 200 OK\n",
            "Length: 1349314 (1.3M) [text/csv]\n",
            "Saving to: ‘google_play.csv’\n",
            "\n",
            "google_play.csv     100%[===================>]   1.29M  1.18MB/s    in 1.1s    \n",
            "\n",
            "2025-05-04 14:14:18 (1.18 MB/s) - ‘google_play.csv’ saved [1349314/1349314]\n",
            "\n"
          ]
        }
      ]
    },
    {
      "cell_type": "code",
      "source": [
        "from csv import reader\n",
        "\n",
        "def wczytaj_google(nazwa_pliku):\n",
        "    with open(nazwa_pliku, encoding='utf-8') as plik:\n",
        "        dane = list(reader(plik))\n",
        "    return dane[1:]  # bez nagłówka\n",
        "\n",
        "dane_google = wczytaj_google('google_play.csv')"
      ],
      "metadata": {
        "id": "ZnFk_fFspFkf"
      },
      "execution_count": null,
      "outputs": []
    },
    {
      "cell_type": "code",
      "source": [
        "def czysc_bledne(dane):\n",
        "    if not dane:\n",
        "        return []\n",
        "    liczba_kolumn = len(dane[0])\n",
        "    return [wiersz for wiersz in dane if len(wiersz) == liczba_kolumn]\n",
        "\n",
        "dane_google_ok = czysc_bledne(dane_google)"
      ],
      "metadata": {
        "id": "4cT_dvU_pFez"
      },
      "execution_count": null,
      "outputs": []
    },
    {
      "cell_type": "code",
      "source": [
        "def usun_duplikaty(dane):\n",
        "    najwiecej_opinii = {}\n",
        "    for wiersz in dane:\n",
        "        nazwa = wiersz[0]\n",
        "        opinie = float(wiersz[3])\n",
        "        if nazwa not in najwiecej_opinii or opinie > najwiecej_opinii[nazwa]:\n",
        "            najwiecej_opinii[nazwa] = opinie\n",
        "\n",
        "    czyste = []\n",
        "    dodane = set()\n",
        "    for wiersz in dane:\n",
        "        nazwa = wiersz[0]\n",
        "        opinie = float(wiersz[3])\n",
        "        if opinie == najwiecej_opinii[nazwa] and nazwa not in dodane:\n",
        "            czyste.append(wiersz)\n",
        "            dodane.add(nazwa)\n",
        "\n",
        "    return czyste\n",
        "\n",
        "dane_google_bez_duplikatow = usun_duplikaty(dane_google_ok)"
      ],
      "metadata": {
        "id": "bunlYh_lpFca"
      },
      "execution_count": null,
      "outputs": []
    },
    {
      "cell_type": "code",
      "source": [
        "def czy_angielska(nazwa):\n",
        "    znaki_nie_ascii = sum(1 for znak in nazwa if ord(znak) > 127)\n",
        "    return znaki_nie_ascii <= 3"
      ],
      "metadata": {
        "id": "Nopi6SK3pFaH"
      },
      "execution_count": null,
      "outputs": []
    },
    {
      "cell_type": "code",
      "source": [
        "def zostaw_angielskie(dane):\n",
        "    return [wiersz for wiersz in dane if czy_angielska(wiersz[0])]\n",
        "\n",
        "google_angielskie = zostaw_angielskie(dane_google_bez_duplikatow)"
      ],
      "metadata": {
        "id": "TOIR-22jpPOY"
      },
      "execution_count": null,
      "outputs": []
    },
    {
      "cell_type": "code",
      "source": [
        "def wybierz_darmowe(dane, kolumna, wartosc):\n",
        "    return [wiersz for wiersz in dane if wiersz[kolumna] == wartosc]\n",
        "\n",
        "google_darmowe = wybierz_darmowe(google_angielskie, 7, '0')\n",
        "print(\"Liczba darmowych aplikacji Google:\", len(google_darmowe))"
      ],
      "metadata": {
        "colab": {
          "base_uri": "https://localhost:8080/"
        },
        "id": "XpHAsq9lpPMM",
        "outputId": "91cb5562-11ee-43f9-c168-2df255783a80"
      },
      "execution_count": null,
      "outputs": [
        {
          "output_type": "stream",
          "name": "stdout",
          "text": [
            "Liczba darmowych aplikacji Google: 8864\n"
          ]
        }
      ]
    },
    {
      "cell_type": "markdown",
      "source": [
        "###Apple"
      ],
      "metadata": {
        "id": "sZtHuQn3o5ki"
      }
    },
    {
      "cell_type": "code",
      "source": [
        "!wget https://dq-content.s3.amazonaws.com/350/AppleStore.csv -O apple_wget.csv"
      ],
      "metadata": {
        "colab": {
          "base_uri": "https://localhost:8080/"
        },
        "id": "eqWPNTZVpTG6",
        "outputId": "79a6d203-076c-4349-e82f-32f5ea3a4bff"
      },
      "execution_count": null,
      "outputs": [
        {
          "output_type": "stream",
          "name": "stdout",
          "text": [
            "--2025-05-04 14:14:20--  https://dq-content.s3.amazonaws.com/350/AppleStore.csv\n",
            "Resolving dq-content.s3.amazonaws.com (dq-content.s3.amazonaws.com)... 54.231.232.105, 52.217.235.97, 54.231.170.217, ...\n",
            "Connecting to dq-content.s3.amazonaws.com (dq-content.s3.amazonaws.com)|54.231.232.105|:443... connected.\n",
            "HTTP request sent, awaiting response... 200 OK\n",
            "Length: 725761 (709K) [text/csv]\n",
            "Saving to: ‘apple_wget.csv’\n",
            "\n",
            "apple_wget.csv      100%[===================>] 708.75K   782KB/s    in 0.9s    \n",
            "\n",
            "2025-05-04 14:14:21 (782 KB/s) - ‘apple_wget.csv’ saved [725761/725761]\n",
            "\n"
          ]
        }
      ]
    },
    {
      "cell_type": "code",
      "source": [
        "def wczytaj_apple(nazwa_pliku):\n",
        "    with open(nazwa_pliku, encoding='utf-8') as plik:\n",
        "        czytnik = reader(plik)\n",
        "        next(czytnik)\n",
        "        dane = list(czytnik)\n",
        "        return dane\n",
        "\n",
        "\n",
        "def czysc_bledne_apple(dane):\n",
        "    liczba_kolumn = len(dane[0])\n",
        "    return [w for w in dane if len(w) == liczba_kolumn]\n",
        "\n",
        "dane_apple_ok = czysc_bledne_apple(dane_apple)"
      ],
      "metadata": {
        "id": "5RbC1ncupTE1"
      },
      "execution_count": null,
      "outputs": []
    },
    {
      "cell_type": "code",
      "source": [
        "apple_angielskie = [w for w in dane_apple_ok if czy_angielska(w[1])]\n",
        "apple_darmowe = wybierz_darmowe(apple_angielskie, 4, '0.0')\n",
        "\n",
        "print(\"Liczba darmowych aplikacji Apple:\", len(apple_darmowe))"
      ],
      "metadata": {
        "colab": {
          "base_uri": "https://localhost:8080/"
        },
        "id": "6DwjzOTvpTCx",
        "outputId": "e7ba4069-6335-4f92-bb55-f0b50630ad6f"
      },
      "execution_count": null,
      "outputs": [
        {
          "output_type": "stream",
          "name": "stdout",
          "text": [
            "Liczba darmowych aplikacji Apple: 3222\n"
          ]
        }
      ]
    },
    {
      "cell_type": "code",
      "source": [
        "def tabela_czestotliwosci(dane, kolumna):\n",
        "    t = {}\n",
        "    for w in dane:\n",
        "        klucz = w[kolumna]\n",
        "        t[klucz] = t.get(klucz, 0) + 1\n",
        "    return t\n",
        "\n",
        "def srednia_dla_kategorii(dane, kolumna_kategorii, kolumna_liczbowa):\n",
        "    czestosc = tabela_czestotliwosci(dane, kolumna_kategorii)\n",
        "    wyniki = {}\n",
        "    for kategoria in czestosc:\n",
        "        suma = 0\n",
        "        licznik = 0\n",
        "        for w in dane:\n",
        "            if w[kolumna_kategorii] == kategoria:\n",
        "                try:\n",
        "                    liczba = float(w[kolumna_liczbowa].replace(',', '').replace('+', ''))\n",
        "                    suma += liczba\n",
        "                    licznik += 1\n",
        "                except:\n",
        "                    continue\n",
        "        if licznik > 0:\n",
        "            wyniki[kategoria] = round(suma / licznik)\n",
        "    return sorted(wyniki.items(), key=lambda x: x[1], reverse=True)"
      ],
      "metadata": {
        "id": "_xZkLja8pTAk"
      },
      "execution_count": null,
      "outputs": []
    },
    {
      "cell_type": "code",
      "source": [
        "print(\"Top kategorie Google:\")\n",
        "for kategoria, sr in srednia_dla_kategorii(google_darmowe, 1, 5):\n",
        "    print(kategoria, ':', sr)\n",
        "\n",
        "print(\"\\nTop gatunki Apple:\")\n",
        "for gatunek, sr in srednia_dla_kategorii(apple_darmowe, 11, 5):\n",
        "    print(gatunek, ':', sr)"
      ],
      "metadata": {
        "colab": {
          "base_uri": "https://localhost:8080/"
        },
        "id": "c1CqdSlnpS-c",
        "outputId": "e8cde2cb-f276-4797-b629-0706ee605fca"
      },
      "execution_count": null,
      "outputs": [
        {
          "output_type": "stream",
          "name": "stdout",
          "text": [
            "Top kategorie Google:\n",
            "COMMUNICATION : 38456119\n",
            "VIDEO_PLAYERS : 24727872\n",
            "SOCIAL : 23253652\n",
            "PHOTOGRAPHY : 17840110\n",
            "PRODUCTIVITY : 16787331\n",
            "GAME : 15588016\n",
            "TRAVEL_AND_LOCAL : 13984078\n",
            "ENTERTAINMENT : 11640706\n",
            "TOOLS : 10801391\n",
            "NEWS_AND_MAGAZINES : 9549178\n",
            "BOOKS_AND_REFERENCE : 8767812\n",
            "SHOPPING : 7036877\n",
            "PERSONALIZATION : 5201483\n",
            "WEATHER : 5074486\n",
            "HEALTH_AND_FITNESS : 4188822\n",
            "MAPS_AND_NAVIGATION : 4056942\n",
            "FAMILY : 3695642\n",
            "SPORTS : 3638640\n",
            "ART_AND_DESIGN : 1986335\n",
            "FOOD_AND_DRINK : 1924898\n",
            "EDUCATION : 1833495\n",
            "BUSINESS : 1712290\n",
            "LIFESTYLE : 1437816\n",
            "FINANCE : 1387692\n",
            "HOUSE_AND_HOME : 1331541\n",
            "DATING : 854029\n",
            "COMICS : 817657\n",
            "AUTO_AND_VEHICLES : 647318\n",
            "LIBRARIES_AND_DEMO : 638504\n",
            "PARENTING : 542604\n",
            "BEAUTY : 513152\n",
            "EVENTS : 253542\n",
            "MEDICAL : 120551\n",
            "\n",
            "Top gatunki Apple:\n",
            "Navigation : 86090\n",
            "Reference : 74942\n",
            "Social Networking : 71548\n",
            "Music : 57327\n",
            "Weather : 52280\n",
            "Book : 39758\n",
            "Food & Drink : 33334\n",
            "Finance : 31468\n",
            "Photo & Video : 28442\n",
            "Travel : 28244\n",
            "Shopping : 26920\n",
            "Health & Fitness : 23298\n",
            "Sports : 23009\n",
            "Games : 22789\n",
            "News : 21248\n",
            "Productivity : 21028\n",
            "Utilities : 18684\n",
            "Lifestyle : 16486\n",
            "Entertainment : 14030\n",
            "Business : 7491\n",
            "Education : 7004\n",
            "Catalogs : 4004\n",
            "Medical : 612\n"
          ]
        }
      ]
    },
    {
      "cell_type": "markdown",
      "source": [
        "##Porównanie podejścia mojego i twórców\n"
      ],
      "metadata": {
        "id": "XveVS9_TptQi"
      }
    },
    {
      "cell_type": "code",
      "source": [
        "google_auto = wybierz_darmowe(\n",
        "    zostaw_angielskie(\n",
        "        usun_duplikaty(\n",
        "            czysc_bledne(\n",
        "                wczytaj_google('google_play.csv')\n",
        "            )\n",
        "        )\n",
        "    ),\n",
        "    7, '0'\n",
        ")\n",
        "\n",
        "apple_auto = wybierz_darmowe(\n",
        "    [row for row in czysc_bledne_apple(wczytaj_apple('apple_wget.csv')) if czy_angielska(row[1])],\n",
        "    4, '0.0'\n",
        ")"
      ],
      "metadata": {
        "id": "8wymb69AqbZF"
      },
      "execution_count": null,
      "outputs": []
    },
    {
      "cell_type": "code",
      "source": [
        "def porownaj_zbiory(zbior1, zbior2, opis=''):\n",
        "    wynik = zbior1 == zbior2\n",
        "    print(f\"Czy dane są takie same? {opis}  {wynik}\")\n",
        "    return wynik\n",
        "\n",
        "porownaj_zbiory(google_auto, google_darmowe, 'Google Play')\n",
        "\n",
        "porownaj_zbiory(apple_auto, apple_darmowe, 'App Store')"
      ],
      "metadata": {
        "colab": {
          "base_uri": "https://localhost:8080/"
        },
        "id": "5ScGtMbQqbWy",
        "outputId": "e3cc03e4-121b-4b37-9ddc-20cc4bf91f4d"
      },
      "execution_count": null,
      "outputs": [
        {
          "output_type": "stream",
          "name": "stdout",
          "text": [
            "Czy dane są takie same? Google Play  True\n",
            "Czy dane są takie same? App Store  True\n"
          ]
        },
        {
          "output_type": "execute_result",
          "data": {
            "text/plain": [
              "True"
            ]
          },
          "metadata": {},
          "execution_count": 92
        }
      ]
    },
    {
      "cell_type": "markdown",
      "source": [
        "##Optymalizacja"
      ],
      "metadata": {
        "id": "S8vZyVutpzwD"
      }
    },
    {
      "cell_type": "code",
      "source": [
        "tekst_wynikow = '''\n",
        "  Social Networking : 71548.34905660378\n",
        "  Photo & Video : 28441.54375\n",
        "  Games : 22788.6696905016\n",
        "  Music : 57326.530303030304\n",
        "  Reference : 74942.11111111111\n",
        "  Health & Fitness : 23298.015384615384\n",
        "  Weather : 52279.892857142855\n",
        "  Utilities : 18684.456790123455\n",
        "  Travel : 28243.8\n",
        "  Shopping : 26919.690476190477\n",
        "  News : 21248.023255813954\n",
        "  Navigation : 86090.33333333333\n",
        "  Lifestyle : 16485.764705882353\n",
        "  Entertainment : 14029.830708661417\n",
        "  Food & Drink : 33333.92307692308\n",
        "  Sports : 23008.898550724636\n",
        "  Book : 39758.5\n",
        "  Finance : 31467.944444444445\n",
        "  Education : 7003.983050847458\n",
        "  Productivity : 21028.410714285714\n",
        "  Business : 7491.117647058823\n",
        "  Catalogs : 4004.0\n",
        "  Medical : 612.0\n",
        "'''"
      ],
      "metadata": {
        "id": "28lR0H4Lp3Rf"
      },
      "execution_count": null,
      "outputs": []
    },
    {
      "cell_type": "code",
      "source": [
        "def przetworz_tekst(tekst):\n",
        "    wynik = {}\n",
        "    linie = tekst.strip().split('\\n')\n",
        "    for linia in linie:\n",
        "        czesci = linia.split(':')\n",
        "        kategoria = czesci[0].strip()\n",
        "        wartosc = round(float(czesci[1].strip()))\n",
        "        wynik[kategoria] = wartosc\n",
        "    return sorted(wynik.items(), key=lambda x: x[1], reverse=True)\n",
        "\n",
        "docelowe = przetworz_tekst(tekst_wynikow)"
      ],
      "metadata": {
        "id": "9axlBbvWp3Pb"
      },
      "execution_count": null,
      "outputs": []
    },
    {
      "cell_type": "code",
      "source": [
        "moje_apple = srednia_dla_kategorii(apple_darmowe, 11, 5)"
      ],
      "metadata": {
        "id": "1liVCX2Bp3NV"
      },
      "execution_count": null,
      "outputs": []
    },
    {
      "cell_type": "code",
      "source": [
        "czy_pasuje = docelowe == moje_apple\n",
        "print(\"Czy wyniki są identyczne?\", czy_pasuje)\n"
      ],
      "metadata": {
        "colab": {
          "base_uri": "https://localhost:8080/"
        },
        "id": "-etx5LoCp3LS",
        "outputId": "59f36fea-568d-4583-a877-6b123a0e15a6"
      },
      "execution_count": null,
      "outputs": [
        {
          "output_type": "stream",
          "name": "stdout",
          "text": [
            "Czy wyniki są identyczne? True\n"
          ]
        }
      ]
    }
  ]
}